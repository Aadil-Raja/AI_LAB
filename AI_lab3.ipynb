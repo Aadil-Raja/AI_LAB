{
  "nbformat": 4,
  "nbformat_minor": 0,
  "metadata": {
    "colab": {
      "provenance": []
    },
    "kernelspec": {
      "name": "python3",
      "display_name": "Python 3"
    },
    "language_info": {
      "name": "python"
    }
  },
  "cells": [
    {
      "cell_type": "code",
      "source": [
        "#GoalBased DLS Question1 part a\n",
        "tree = {\n",
        "    'A': ['B', 'C'],\n",
        "    'B': ['D', 'E'],\n",
        "    'C': ['F', 'G'],\n",
        "    'D': ['H'],\n",
        "    'E': [],\n",
        "    'F': ['I'],\n",
        "    'G': [],\n",
        "    'H': [],\n",
        "    'I': []\n",
        "}\n",
        "\n",
        "class Environment:\n",
        "    def __init__(self, graph):\n",
        "        self.graph = graph\n",
        "\n",
        "    def get_percept(self, node):\n",
        "        return node\n",
        "\n",
        "class GoalBasedAgent:\n",
        "    def __init__(self, goal):\n",
        "        self.goal = goal\n",
        "\n",
        "    def formulate_goal(self, percept):\n",
        "        return percept == self.goal\n",
        "\n",
        "    def dls(self, graph, start, goal, depth_limit):\n",
        "        visited = []\n",
        "\n",
        "        def dfs(node, depth):\n",
        "            if depth > depth_limit:\n",
        "                return None\n",
        "\n",
        "            visited.append(node)\n",
        "\n",
        "            if node == goal:\n",
        "                return visited[:]\n",
        "\n",
        "            for neighbor in graph.get(node, []):\n",
        "                if neighbor not in visited:\n",
        "                    path = dfs(neighbor, depth + 1)\n",
        "                    if path:\n",
        "                        return path\n",
        "            visited.pop()\n",
        "            return None\n",
        "        return dfs(start, 0)\n",
        "\n",
        "    def act(self, percept, graph, depth_limit):\n",
        "        if self.formulate_goal(percept):\n",
        "            return f\"Goal {self.goal} found at the start node!\"\n",
        "\n",
        "        path = self.dls(graph, percept, self.goal, depth_limit)\n",
        "        if path:\n",
        "            return f\"Goal found with DLS. Path: {path}\"\n",
        "        else:\n",
        "            return \"Goal not found within depth limit.\"\n",
        "\n",
        "def run_agent(agent, environment, start_node, depth_limit):\n",
        "    percept = environment.get_percept(start_node)\n",
        "    action = agent.act(percept, environment.graph, depth_limit)\n",
        "    print(action)\n",
        "\n",
        "start_node = 'A'\n",
        "goal_node = 'I'\n",
        "depth_limit = 5\n",
        "agent = GoalBasedAgent(goal_node)\n",
        "environment = Environment(tree)\n",
        "run_agent(agent, environment, start_node, depth_limit)\n"
      ],
      "metadata": {
        "id": "5fPUAU9JiDro",
        "colab": {
          "base_uri": "https://localhost:8080/"
        },
        "outputId": "a8a9cb5f-7378-4489-ab65-9238e6c7e5cb"
      },
      "execution_count": 1,
      "outputs": [
        {
          "output_type": "stream",
          "name": "stdout",
          "text": [
            "Goal found with DLS. Path: ['A', 'C', 'F', 'I']\n"
          ]
        }
      ]
    },
    {
      "cell_type": "code",
      "source": [],
      "metadata": {
        "id": "-ax7dMrdksqK"
      },
      "execution_count": null,
      "outputs": []
    },
    {
      "cell_type": "code",
      "source": [
        "\n",
        "#Task #1 UCS\n",
        "import random\n",
        "\n",
        "graph = {\n",
        "'A': {'B': 2, 'C': 1},\n",
        "'B': {'D': 4, 'E': 3},\n",
        "'C': {'F': 4, 'G': 5},\n",
        "'D': {'H': 3},\n",
        "'E': {},\n",
        "'F': {'I': 4},\n",
        "'G': {},\n",
        "'H': {},\n",
        "'I': {}\n",
        "}\n",
        "\n",
        "class Environment:\n",
        "  def __init__(self, graph):\n",
        "    self.graph = graph\n",
        "\n",
        "\n",
        "class UtilityBasedAgent:\n",
        "  def __init__(self,start,goal):\n",
        "    self.start = start\n",
        "    self.goal = goal\n",
        "\n",
        "  def ucs(self, graph, start, goal):\n",
        "\n",
        "      frontier = [(start, 0)]\n",
        "      visited = set()\n",
        "      cost_so_far = {start: 0}\n",
        "      came_from = {start: None}\n",
        "      while frontier:\n",
        "        frontier.sort(key=lambda x: x[1])\n",
        "        current_node, current_cost = frontier.pop(0)\n",
        "        if current_node in visited:\n",
        "          continue\n",
        "\n",
        "        visited.add(current_node)\n",
        "        if current_node == goal:\n",
        "          path = []\n",
        "          while current_node is not None:\n",
        "            path.append(current_node)\n",
        "            current_node = came_from[current_node]\n",
        "          path.reverse()\n",
        "          print(f\"Goal found with UCS. Path: {path}, Total Cost: {current_cost}\")\n",
        "          return\n",
        "\n",
        "        for neighbor, cost in graph[current_node].items():\n",
        "          new_cost = current_cost + cost\n",
        "          if neighbor not in cost_so_far or new_cost < cost_so_far[neighbor]:\n",
        "            cost_so_far[neighbor] = new_cost\n",
        "            came_from[neighbor] = current_node\n",
        "            frontier.append((neighbor, new_cost))\n",
        "\n",
        "      print(\"Goal not found\")\n",
        "\n",
        "\n",
        "def run_agent(agent, environment):\n",
        "  agent.ucs(environment.graph, agent.start, agent.goal)\n",
        "\n",
        "start = 'A'\n",
        "goal = 'I'\n",
        "agent = UtilityBasedAgent( start, goal)\n",
        "environment = Environment(graph)\n",
        "\n",
        "run_agent(agent, environment)"
      ],
      "metadata": {
        "colab": {
          "base_uri": "https://localhost:8080/"
        },
        "id": "3UVOH2BOj8nL",
        "outputId": "6e7bd5bf-7742-434b-ddf2-f7f9744b02c5"
      },
      "execution_count": 7,
      "outputs": [
        {
          "output_type": "stream",
          "name": "stdout",
          "text": [
            "Goal found with UCS. Path: ['A', 'C', 'F', 'I'], Total Cost: 9\n"
          ]
        }
      ]
    },
    {
      "cell_type": "code",
      "source": [
        "from itertools import permutations\n",
        "\n",
        "distance_matrix = {\n",
        "    1: {1: 0, 2: 10, 3: 15, 4: 20},\n",
        "    2: {1: 10, 2: 0, 3: 35, 4: 25},\n",
        "    3: {1: 15, 2: 35, 3: 0, 4: 30},\n",
        "    4: {1: 20, 2: 25, 3: 30, 4: 0}\n",
        "}\n",
        "\n",
        "\n",
        "cities = list(distance_matrix.keys())\n",
        "\n",
        "start_city = 1\n",
        "routes = permutations([city for city in cities if city != start_city])\n",
        "\n",
        "min_cost = float('inf')\n",
        "best_route = None\n",
        "\n",
        "for route in routes:\n",
        "\n",
        "    cost = 0\n",
        "    current_city = start_city\n",
        "\n",
        "    for next_city in route:\n",
        "        cost += distance_matrix[current_city][next_city]\n",
        "        current_city = next_city\n",
        "\n",
        "    cost += distance_matrix[current_city][start_city]\n",
        "    if cost < min_cost:\n",
        "        min_cost = cost\n",
        "        best_route = (start_city,) + route + (start_city,)\n",
        "\n",
        "print(\"Best Route\",best_route)\n",
        "print(\"Best Route Cost\",min_cost)\n",
        "\n"
      ],
      "metadata": {
        "id": "HpUxvrjkS4UB",
        "colab": {
          "base_uri": "https://localhost:8080/"
        },
        "outputId": "e59dff9e-84c0-4067-f3e3-88dbaeed1b59"
      },
      "execution_count": 9,
      "outputs": [
        {
          "output_type": "stream",
          "name": "stdout",
          "text": [
            "Best Route (1, 2, 4, 3, 1)\n",
            "Best Route Cost 80\n"
          ]
        }
      ]
    },
    {
      "cell_type": "code",
      "source": [
        "\n",
        "#LabTASK3\n",
        "tree = {\n",
        "'A': ['B', 'C'],\n",
        "'B': ['D', 'E'],\n",
        "'C': ['F', 'G'],\n",
        "'D': ['H'],\n",
        "'E': [],\n",
        "'F': ['I'],\n",
        "'G': [],\n",
        "'H': [],\n",
        "'I': []\n",
        "}\n",
        "\n",
        "graph = {\n",
        "    'A': ['B', 'C','G'],\n",
        "    'B': ['A','D', 'E'],\n",
        "    'C': ['A','F', 'G'],\n",
        "    'D': ['B','H'],\n",
        "    'E': ['B'],\n",
        "    'F': ['C', ],\n",
        "    'G': ['A','C','I'],\n",
        "    'H': ['D'],\n",
        "    'I': ['G']\n",
        "}\n",
        "\n",
        "def dls(node, goal, depth, path,graph):\n",
        "  if depth == 0:\n",
        "    return False\n",
        "  if node == goal:\n",
        "    path.append(node)\n",
        "    return True\n",
        "  if node not in graph:\n",
        "    return False\n",
        "  for child in graph[node]:\n",
        "    if dls(child, goal, depth - 1, path,graph):\n",
        "      path.append(node)\n",
        "      return True\n",
        "  return False\n",
        "\n",
        "def iterative_deepening(start, goal, max_depth,graph):\n",
        "  for depth in range(max_depth + 1):\n",
        "    print(f\"Depth: {depth}\")\n",
        "    path = []\n",
        "  if dls(start, goal, depth, path,graph):\n",
        "    print(\"\\nPath to goal:\", \" →\".join(reversed(path)))\n",
        "    return\n",
        "  print(\"Goal not found within depth limit.\")\n",
        "\n",
        "start_node = 'A'\n",
        "goal_node = 'I'\n",
        "max_search_depth = 5\n",
        "print(\"\\nRunning IDDFS on Tree:\")\n",
        "iterative_deepening(start_node, goal_node, max_search_depth,tree)\n",
        "\n",
        "print(\"\\nRunning IDDFS on Graph:\")\n",
        "iterative_deepening(start_node, goal_node, max_search_depth,graph)\n"
      ],
      "metadata": {
        "colab": {
          "base_uri": "https://localhost:8080/"
        },
        "id": "wp41SBhcUDH8",
        "outputId": "7898e2c1-7c57-4518-bbe5-8494afa246c5"
      },
      "execution_count": null,
      "outputs": [
        {
          "output_type": "stream",
          "name": "stdout",
          "text": [
            "\n",
            "Running IDDFS on Tree:\n",
            "Depth: 0\n",
            "Depth: 1\n",
            "Depth: 2\n",
            "Depth: 3\n",
            "Depth: 4\n",
            "Depth: 5\n",
            "\n",
            "Path to goal: A →C →F →I\n",
            "\n",
            "Running IDDFS on Graph:\n",
            "Depth: 0\n",
            "Depth: 1\n",
            "Depth: 2\n",
            "Depth: 3\n",
            "Depth: 4\n",
            "Depth: 5\n",
            "\n",
            "Path to goal: A →B →A →G →I\n"
          ]
        }
      ]
    },
    {
      "cell_type": "code",
      "source": [
        "\n",
        "#labtak04\n",
        "maze = [\n",
        "    [0, 0, 0],\n",
        "    [0, 1, 0],\n",
        "    [0, 1, 0]\n",
        "]\n",
        "\n",
        "directions = [(0, 1), (1, 0), (-1, 0), (0, -1)]\n",
        "\n",
        "def create_graph(maze):\n",
        "    graph = {}\n",
        "    rows = len(maze)\n",
        "    cols = len(maze[0])\n",
        "    for i in range(rows):\n",
        "        for j in range(cols):\n",
        "            if maze[i][j] == 0:\n",
        "                neighbors = []\n",
        "                for dx, dy in directions:\n",
        "                    nx, ny = i + dx, j + dy\n",
        "                    if 0 <= nx < rows and 0 <= ny < cols and maze[nx][ny] == 0:\n",
        "                        neighbors.append((nx, ny))\n",
        "                graph[(i, j)] = neighbors\n",
        "    return graph\n",
        "\n",
        "class Environment:\n",
        "  def __init__(self,graph) :\n",
        "     self.graph=graph\n",
        "\n",
        "class PubgAgent:\n",
        "  def __init__(self,start,goal):\n",
        "    self.start=start\n",
        "    self.goal=goal\n",
        "  def bfs(self,graph, start, goal):\n",
        "      visited = []\n",
        "      queue = []\n",
        "\n",
        "      visited.append(start)\n",
        "      queue.append(start)\n",
        "\n",
        "      while queue:\n",
        "          node = queue.pop(0)\n",
        "          print(node, end=\" \")\n",
        "\n",
        "          if node == goal:\n",
        "              print(\"\\nGoal found!\")\n",
        "              return\n",
        "\n",
        "          for neighbour in graph.get(node, []):\n",
        "              if neighbour not in visited:\n",
        "                  visited.append(neighbour)\n",
        "                  queue.append(neighbour)\n",
        "\n",
        "def run_agent(environment, agent):\n",
        "  agent.bfs(environment.graph, agent.start, agent.goal)\n",
        "\n",
        "\n",
        "graph = create_graph(maze)\n",
        "\n",
        "\n",
        "enviroment=Environment(graph)\n",
        "start_node = (0, 0)\n",
        "goal_node = (2, 2)\n",
        "\n",
        "agent=PubgAgent(start_node,goal_node)\n",
        "\n",
        "\n",
        "print(\"\\nFollowing is the Breadth-First Search (BFS):\")\n",
        "run_agent(environment, agent)\n"
      ],
      "metadata": {
        "colab": {
          "base_uri": "https://localhost:8080/"
        },
        "id": "yP6r8ybnZK6q",
        "outputId": "6c6b1600-3863-48fc-84b5-6c9fa6b24b59"
      },
      "execution_count": 12,
      "outputs": [
        {
          "output_type": "stream",
          "name": "stdout",
          "text": [
            "\n",
            "Following is the Breadth-First Search (BFS):\n",
            "(0, 0) (0, 1) (1, 0) (0, 2) (2, 0) (1, 2) (2, 2) \n",
            "Goal found!\n"
          ]
        }
      ]
    },
    {
      "cell_type": "code",
      "source": [
        "\n"
      ],
      "metadata": {
        "id": "hGjboXMyW-pG"
      },
      "execution_count": null,
      "outputs": []
    }
  ]
}